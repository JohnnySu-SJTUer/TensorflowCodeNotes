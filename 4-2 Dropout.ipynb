{
 "cells": [
  {
   "cell_type": "code",
   "execution_count": 1,
   "metadata": {},
   "outputs": [],
   "source": [
    "import tensorflow as tf\n",
    "from tensorflow.examples.tutorials.mnist import input_data"
   ]
  },
  {
   "cell_type": "code",
   "execution_count": 3,
   "metadata": {},
   "outputs": [
    {
     "name": "stdout",
     "output_type": "stream",
     "text": [
      "Extracting MNIST_data\\train-images-idx3-ubyte.gz\n",
      "Extracting MNIST_data\\train-labels-idx1-ubyte.gz\n",
      "Extracting MNIST_data\\t10k-images-idx3-ubyte.gz\n",
      "Extracting MNIST_data\\t10k-labels-idx1-ubyte.gz\n",
      "Iter 0,Testing Accuracy 0.9489,Training Accuracy 0.9565091\n",
      "Iter 1,Testing Accuracy 0.9603,Training Accuracy 0.97081816\n",
      "Iter 2,Testing Accuracy 0.9667,Training Accuracy 0.9786364\n",
      "Iter 3,Testing Accuracy 0.9724,Training Accuracy 0.98556364\n",
      "Iter 4,Testing Accuracy 0.9742,Training Accuracy 0.9883636\n",
      "Iter 5,Testing Accuracy 0.9736,Training Accuracy 0.99087274\n",
      "Iter 6,Testing Accuracy 0.9752,Training Accuracy 0.992\n",
      "Iter 7,Testing Accuracy 0.9757,Training Accuracy 0.99334544\n",
      "Iter 8,Testing Accuracy 0.9779,Training Accuracy 0.9939091\n",
      "Iter 9,Testing Accuracy 0.9775,Training Accuracy 0.99430907\n",
      "Iter 10,Testing Accuracy 0.9794,Training Accuracy 0.9947636\n",
      "Iter 11,Testing Accuracy 0.9787,Training Accuracy 0.99514544\n",
      "Iter 12,Testing Accuracy 0.9782,Training Accuracy 0.99538183\n",
      "Iter 13,Testing Accuracy 0.9779,Training Accuracy 0.9956\n",
      "Iter 14,Testing Accuracy 0.9772,Training Accuracy 0.99576366\n",
      "Iter 15,Testing Accuracy 0.9782,Training Accuracy 0.99585456\n",
      "Iter 16,Testing Accuracy 0.978,Training Accuracy 0.99596363\n",
      "Iter 17,Testing Accuracy 0.9784,Training Accuracy 0.9960727\n",
      "Iter 18,Testing Accuracy 0.9783,Training Accuracy 0.99618185\n",
      "Iter 19,Testing Accuracy 0.979,Training Accuracy 0.99627274\n",
      "Iter 20,Testing Accuracy 0.9787,Training Accuracy 0.99636364\n"
     ]
    }
   ],
   "source": [
    "#load dataset\n",
    "mnist = input_data.read_data_sets(\"MNIST_data\",one_hot=True)\n",
    "#define batch size\n",
    "batch_size = 100\n",
    "#calculate number of batches\n",
    "n_batch = mnist.train.num_examples // batch_size\n",
    "\n",
    "#define to placeholder\n",
    "x = tf.placeholder(tf.float32, [None,784])\n",
    "y = tf.placeholder(tf.float32, [None,10])\n",
    "keep_prob = tf.placeholder(tf.float32)\n",
    "\n",
    "#create simple neural network\n",
    "W1 = tf.Variable(tf.truncated_normal([784,2000],stddev=0.1))\n",
    "b1 = tf.Variable(tf.zeros([2000])+0.1)\n",
    "L1 = tf.nn.tanh(tf.matmul(x,W1)+b1)\n",
    "L1_drop = tf.nn.dropout(L1,keep_prob)\n",
    "\n",
    "W2 = tf.Variable(tf.truncated_normal([2000,2000],stddev=0.1))\n",
    "b2 = tf.Variable(tf.zeros([2000])+0.1)\n",
    "L2 = tf.nn.tanh(tf.matmul(L1_drop,W2)+b2)\n",
    "L2_drop = tf.nn.dropout(L2,keep_prob)\n",
    "\n",
    "W3 = tf.Variable(tf.truncated_normal([2000,1000],stddev=0.1))\n",
    "b3 = tf.Variable(tf.zeros([1000])+0.1)\n",
    "L3 = tf.nn.tanh(tf.matmul(L2_drop,W3)+b3)\n",
    "L3_drop = tf.nn.dropout(L3,keep_prob)\n",
    "\n",
    "W4 = tf.Variable(tf.truncated_normal([1000,10],stddev=0.1))\n",
    "b4 = tf.Variable(tf.zeros([10])+0.1)\n",
    "prediction = tf.nn.softmax(tf.matmul(L3_drop,W4)+b4)\n",
    "\n",
    "#quadratic cost function\n",
    "#loss = tf.reduce_mean(tf.square(y-prediction))\n",
    "#cross-entropy\n",
    "loss = tf.reduce_mean(tf.nn.softmax_cross_entropy_with_logits(labels=y,logits=prediction))\n",
    "\n",
    "#train with gradient descent\n",
    "train_step = tf.train.GradientDescentOptimizer(0.3).minimize(loss)\n",
    "\n",
    "#initialize variables\n",
    "init = tf.global_variables_initializer()\n",
    "\n",
    "#find accuracy of trained model\n",
    "correct_prediction = tf.equal(tf.argmax(y,1),tf.argmax(prediction,1))\n",
    "\n",
    "#convert a list of booleans into a single boolean of accuracy\n",
    "accuracy = tf.reduce_mean(tf.cast(correct_prediction, tf.float32))\n",
    "\n",
    "with tf.Session() as sess:\n",
    "    sess.run(init)\n",
    "    for epoch in range(21):\n",
    "        for batch in range(n_batch):\n",
    "            batch_xs,batch_ys = mnist.train.next_batch(batch_size)\n",
    "            sess.run(train_step, feed_dict={x:batch_xs,y:batch_ys,keep_prob:1.0})\n",
    "            \n",
    "        test_acc = sess.run(accuracy,feed_dict={x:mnist.test.images,y:mnist.test.labels,keep_prob:1.0})\n",
    "        train_acc = sess.run(accuracy,feed_dict={x:mnist.train.images,y:mnist.train.labels,keep_prob:1.0})\n",
    "        print(\"Iter \"+str(epoch) + \",Testing Accuracy \"+str(test_acc) + \",Training Accuracy \"+str(train_acc))"
   ]
  },
  {
   "cell_type": "code",
   "execution_count": null,
   "metadata": {},
   "outputs": [],
   "source": []
  }
 ],
 "metadata": {
  "kernelspec": {
   "display_name": "Python 3",
   "language": "python",
   "name": "python3"
  },
  "language_info": {
   "codemirror_mode": {
    "name": "ipython",
    "version": 3
   },
   "file_extension": ".py",
   "mimetype": "text/x-python",
   "name": "python",
   "nbconvert_exporter": "python",
   "pygments_lexer": "ipython3",
   "version": "3.6.3"
  }
 },
 "nbformat": 4,
 "nbformat_minor": 2
}
