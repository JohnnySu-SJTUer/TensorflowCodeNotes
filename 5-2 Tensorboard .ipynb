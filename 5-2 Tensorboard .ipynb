{
 "cells": [
  {
   "cell_type": "code",
   "execution_count": 1,
   "metadata": {},
   "outputs": [],
   "source": [
    "import tensorflow as tf\n",
    "from tensorflow.examples.tutorials.mnist import input_data"
   ]
  },
  {
   "cell_type": "code",
   "execution_count": 2,
   "metadata": {},
   "outputs": [
    {
     "name": "stdout",
     "output_type": "stream",
     "text": [
      "Extracting MNIST_data\\train-images-idx3-ubyte.gz\n",
      "Extracting MNIST_data\\train-labels-idx1-ubyte.gz\n",
      "Extracting MNIST_data\\t10k-images-idx3-ubyte.gz\n",
      "Extracting MNIST_data\\t10k-labels-idx1-ubyte.gz\n",
      "WARNING:tensorflow:From <ipython-input-2-774cdf7145f5>:27: softmax_cross_entropy_with_logits (from tensorflow.python.ops.nn_ops) is deprecated and will be removed in a future version.\n",
      "Instructions for updating:\n",
      "\n",
      "Future major versions of TensorFlow will allow gradients to flow\n",
      "into the labels input on backprop by default.\n",
      "\n",
      "See tf.nn.softmax_cross_entropy_with_logits_v2.\n",
      "\n",
      "Iter 0,Testing Accuracy 0.8768\n",
      "Iter 1,Testing Accuracy 0.9047\n",
      "Iter 2,Testing Accuracy 0.9109\n",
      "Iter 3,Testing Accuracy 0.9139\n",
      "Iter 4,Testing Accuracy 0.9167\n",
      "Iter 5,Testing Accuracy 0.9181\n",
      "Iter 6,Testing Accuracy 0.9184\n",
      "Iter 7,Testing Accuracy 0.9207\n",
      "Iter 8,Testing Accuracy 0.9206\n",
      "Iter 9,Testing Accuracy 0.9207\n",
      "Iter 10,Testing Accuracy 0.9216\n",
      "Iter 11,Testing Accuracy 0.922\n",
      "Iter 12,Testing Accuracy 0.9229\n",
      "Iter 13,Testing Accuracy 0.9235\n",
      "Iter 14,Testing Accuracy 0.9237\n",
      "Iter 15,Testing Accuracy 0.9242\n",
      "Iter 16,Testing Accuracy 0.9247\n",
      "Iter 17,Testing Accuracy 0.9249\n",
      "Iter 18,Testing Accuracy 0.9252\n",
      "Iter 19,Testing Accuracy 0.9257\n",
      "Iter 20,Testing Accuracy 0.9245\n"
     ]
    }
   ],
   "source": [
    "#load dataset\n",
    "mnist = input_data.read_data_sets(\"MNIST_data\",one_hot=True)\n",
    "#define batch size\n",
    "batch_size = 50\n",
    "#calculate number of batches\n",
    "n_batch = mnist.train.num_examples // batch_size\n",
    "\n",
    "#name scope\n",
    "with tf.name_scope('input'):\n",
    "    #define to placeholder\n",
    "    x = tf.placeholder(tf.float32, [None,784],name='x-input')\n",
    "    y = tf.placeholder(tf.float32, [None,10],name='y-input')\n",
    "\n",
    "with tf.name_scope('layer'):\n",
    "    #create simple neural network\n",
    "    with tf.name_scope('weights'):\n",
    "        W = tf.Variable(tf.zeros([784,10]),name='W')\n",
    "    with tf.name_scope('biases'):\n",
    "        b = tf.Variable(tf.zeros([10]),name='b')\n",
    "    with tf.name_scope('wx_plus_b'):\n",
    "        wx_plus_b = tf.matmul(x,W) + b\n",
    "    with tf.name_scope('softmax'):\n",
    "        prediction = tf.nn.softmax(wx_plus_b)\n",
    "\n",
    "with tf.name_scope('loss'):\n",
    "    #quadratic cost function\n",
    "    loss = tf.reduce_mean(tf.nn.softmax_cross_entropy_with_logits(labels=y,logits=prediction))\n",
    "with tf.name_scope('train'):\n",
    "    #train with gradient descent\n",
    "    train_step = tf.train.GradientDescentOptimizer(0.2).minimize(loss)\n",
    "\n",
    "#initialize variables\n",
    "init = tf.global_variables_initializer()\n",
    "\n",
    "with tf.name_scope('accuracy'):\n",
    "    #find accuracy of trained model\n",
    "    with tf.name_scope('correct_prediction'):\n",
    "        correct_prediction = tf.equal(tf.argmax(y,1),tf.argmax(prediction,1))   #convert a list of booleans into a single boolean of accuracy\n",
    "    with tf.name_scope('accuracy'):\n",
    "        accuracy = tf.reduce_mean(tf.cast(correct_prediction,tf.float32))\n",
    "\n",
    "with tf.Session() as sess:\n",
    "    sess.run(init)\n",
    "    writer = tf.summary.FileWriter('logs/',sess.graph) #CMD input \"tensorboard --logdir=FILE_PATH\"\n",
    "    for epoch in range(21):\n",
    "        for batch in range(n_batch):\n",
    "            batch_xs,batch_ys = mnist.train.next_batch(batch_size)\n",
    "            sess.run(train_step, feed_dict={x:batch_xs,y:batch_ys})\n",
    "        acc = sess.run(accuracy,feed_dict={x:mnist.test.images,y:mnist.test.labels})\n",
    "        print(\"Iter \"+str(epoch) + \",Testing Accuracy \"+str(acc))"
   ]
  },
  {
   "cell_type": "code",
   "execution_count": null,
   "metadata": {},
   "outputs": [],
   "source": []
  }
 ],
 "metadata": {
  "kernelspec": {
   "display_name": "Python 3",
   "language": "python",
   "name": "python3"
  },
  "language_info": {
   "codemirror_mode": {
    "name": "ipython",
    "version": 3
   },
   "file_extension": ".py",
   "mimetype": "text/x-python",
   "name": "python",
   "nbconvert_exporter": "python",
   "pygments_lexer": "ipython3",
   "version": "3.6.3"
  }
 },
 "nbformat": 4,
 "nbformat_minor": 2
}
