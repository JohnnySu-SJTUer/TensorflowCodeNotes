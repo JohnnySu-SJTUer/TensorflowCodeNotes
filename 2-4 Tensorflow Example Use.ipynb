{
 "cells": [
  {
   "cell_type": "code",
   "execution_count": 1,
   "metadata": {},
   "outputs": [],
   "source": [
    "import tensorflow as tf\n",
    "import numpy as np"
   ]
  },
  {
   "cell_type": "code",
   "execution_count": 2,
   "metadata": {},
   "outputs": [
    {
     "name": "stdout",
     "output_type": "stream",
     "text": [
      "0 [0.059994657, 0.10221366]\n",
      "20 [0.10806665, 0.19523017]\n",
      "40 [0.10492949, 0.1970852]\n",
      "60 [0.10301239, 0.19821878]\n",
      "80 [0.101840846, 0.1989115]\n",
      "100 [0.10112494, 0.19933483]\n",
      "120 [0.10068745, 0.19959351]\n",
      "140 [0.100420095, 0.1997516]\n",
      "160 [0.10025671, 0.1998482]\n",
      "180 [0.10015687, 0.19990723]\n",
      "200 [0.10009586, 0.19994332]\n"
     ]
    }
   ],
   "source": [
    "#using numpy to create 100 random nodes\n",
    "x_data = np.random.rand(100)\n",
    "y_data = x_data*0.1+0.2\n",
    "\n",
    "#create a linear fit\n",
    "b = tf.Variable(0.)\n",
    "k = tf.Variable(0.)\n",
    "y = k*x_data + b\n",
    "\n",
    "#quadratic cost function\n",
    "loss = tf.reduce_mean(tf.square(y_data-y))\n",
    "#create an optimizer using gradient descent\n",
    "optimizer = tf.train.GradientDescentOptimizer(0.2)\n",
    "#minimize cost function\n",
    "train = optimizer.minimize(loss)\n",
    "\n",
    "init = tf.global_variables_initializer()\n",
    "\n",
    "with tf.Session() as sess:\n",
    "    sess.run(init)\n",
    "    for step in range(201):\n",
    "        sess.run(train)\n",
    "        if step%20==0:\n",
    "            print(step, sess.run([k,b]))"
   ]
  },
  {
   "cell_type": "code",
   "execution_count": null,
   "metadata": {},
   "outputs": [],
   "source": []
  }
 ],
 "metadata": {
  "kernelspec": {
   "display_name": "Python 3",
   "language": "python",
   "name": "python3"
  },
  "language_info": {
   "codemirror_mode": {
    "name": "ipython",
    "version": 3
   },
   "file_extension": ".py",
   "mimetype": "text/x-python",
   "name": "python",
   "nbconvert_exporter": "python",
   "pygments_lexer": "ipython3",
   "version": "3.6.3"
  }
 },
 "nbformat": 4,
 "nbformat_minor": 2
}
