{
 "cells": [
  {
   "cell_type": "code",
   "execution_count": 2,
   "metadata": {},
   "outputs": [],
   "source": [
    "import tensorflow as tf\n",
    "from tensorflow.examples.tutorials.mnist import input_data"
   ]
  },
  {
   "cell_type": "code",
   "execution_count": 4,
   "metadata": {},
   "outputs": [
    {
     "name": "stdout",
     "output_type": "stream",
     "text": [
      "Extracting MNIST_data\\train-images-idx3-ubyte.gz\n",
      "Extracting MNIST_data\\train-labels-idx1-ubyte.gz\n",
      "Extracting MNIST_data\\t10k-images-idx3-ubyte.gz\n",
      "Extracting MNIST_data\\t10k-labels-idx1-ubyte.gz\n",
      "WARNING:tensorflow:From <ipython-input-4-7d1b577c2e0e>:20: softmax_cross_entropy_with_logits (from tensorflow.python.ops.nn_ops) is deprecated and will be removed in a future version.\n",
      "Instructions for updating:\n",
      "\n",
      "Future major versions of TensorFlow will allow gradients to flow\n",
      "into the labels input on backprop by default.\n",
      "\n",
      "See tf.nn.softmax_cross_entropy_with_logits_v2.\n",
      "\n",
      "Iter 0,Testing Accuracy 0.9012\n",
      "Iter 1,Testing Accuracy 0.9089\n",
      "Iter 2,Testing Accuracy 0.914\n",
      "Iter 3,Testing Accuracy 0.9174\n",
      "Iter 4,Testing Accuracy 0.9203\n",
      "Iter 5,Testing Accuracy 0.9207\n",
      "Iter 6,Testing Accuracy 0.9217\n",
      "Iter 7,Testing Accuracy 0.9217\n",
      "Iter 8,Testing Accuracy 0.9223\n",
      "Iter 9,Testing Accuracy 0.9236\n",
      "Iter 10,Testing Accuracy 0.9234\n",
      "Iter 11,Testing Accuracy 0.9243\n",
      "Iter 12,Testing Accuracy 0.9252\n",
      "Iter 13,Testing Accuracy 0.9246\n",
      "Iter 14,Testing Accuracy 0.926\n",
      "Iter 15,Testing Accuracy 0.9268\n",
      "Iter 16,Testing Accuracy 0.924\n",
      "Iter 17,Testing Accuracy 0.9262\n",
      "Iter 18,Testing Accuracy 0.9269\n",
      "Iter 19,Testing Accuracy 0.9275\n",
      "Iter 20,Testing Accuracy 0.9267\n"
     ]
    }
   ],
   "source": [
    "#load dataset\n",
    "mnist = input_data.read_data_sets(\"MNIST_data\",one_hot=True)\n",
    "#define batch size\n",
    "batch_size = 50\n",
    "#calculate number of batches\n",
    "n_batch = mnist.train.num_examples // batch_size\n",
    "\n",
    "#define to placeholder\n",
    "x = tf.placeholder(tf.float32, [None,784])\n",
    "y = tf.placeholder(tf.float32, [None,10])\n",
    "\n",
    "#create simple neural network\n",
    "W = tf.Variable(tf.zeros([784,10]))\n",
    "b = tf.Variable(tf.zeros([10]))\n",
    "prediction = tf.nn.softmax(tf.matmul(x,W)+b)\n",
    "\n",
    "#quadratic cost function\n",
    "#loss = tf.reduce_mean(tf.square(y-prediction))\n",
    "#cross-entropy\n",
    "loss = tf.reduce_mean(tf.nn.softmax_cross_entropy_with_logits(labels=y,logits=prediction))\n",
    "\n",
    "#train with gradient descent\n",
    "train_step = tf.train.GradientDescentOptimizer(0.3).minimize(loss)\n",
    "\n",
    "#initialize variables\n",
    "init = tf.global_variables_initializer()\n",
    "\n",
    "#find accuracy of trained model\n",
    "correct_prediction = tf.equal(tf.argmax(y,1),tf.argmax(prediction,1))\n",
    "\n",
    "#convert a list of booleans into a single boolean of accuracy\n",
    "accuracy = tf.reduce_mean(tf.cast(correct_prediction, tf.float32))\n",
    "\n",
    "with tf.Session() as sess:\n",
    "    sess.run(init)\n",
    "    for epoch in range(21):\n",
    "        for batch in range(n_batch):\n",
    "            batch_xs,batch_ys = mnist.train.next_batch(batch_size)\n",
    "            sess.run(train_step, feed_dict={x:batch_xs,y:batch_ys})\n",
    "        acc = sess.run(accuracy,feed_dict={x:mnist.test.images,y:mnist.test.labels})\n",
    "        print(\"Iter \"+str(epoch) + \",Testing Accuracy \"+str(acc))"
   ]
  },
  {
   "cell_type": "code",
   "execution_count": null,
   "metadata": {},
   "outputs": [],
   "source": [
    "'''\n",
    "change parameters:\n",
    "\n",
    "batch_size\n",
    "initializer of W,b\n",
    "learnint rate\n",
    "optimizer\n",
    "epoch\n",
    "\n",
    "'''\n",
    "#quadratic cost\n",
    "Iter 0,Testing Accuracy 0.8814\n",
    "Iter 1,Testing Accuracy 0.8961\n",
    "Iter 2,Testing Accuracy 0.9028\n",
    "Iter 3,Testing Accuracy 0.9068\n",
    "Iter 4,Testing Accuracy 0.9092\n",
    "Iter 5,Testing Accuracy 0.9118\n",
    "Iter 6,Testing Accuracy 0.9133\n",
    "Iter 7,Testing Accuracy 0.9162\n",
    "Iter 8,Testing Accuracy 0.9172\n",
    "Iter 9,Testing Accuracy 0.9174\n",
    "Iter 10,Testing Accuracy 0.919\n",
    "Iter 11,Testing Accuracy 0.9188\n",
    "Iter 12,Testing Accuracy 0.9196\n",
    "Iter 13,Testing Accuracy 0.9188\n",
    "Iter 14,Testing Accuracy 0.9207\n",
    "Iter 15,Testing Accuracy 0.92\n",
    "Iter 16,Testing Accuracy 0.9217\n",
    "Iter 17,Testing Accuracy 0.9214\n",
    "Iter 18,Testing Accuracy 0.9226\n",
    "Iter 19,Testing Accuracy 0.9215\n",
    "Iter 20,Testing Accuracy 0.9225\n"
   ]
  },
  {
   "cell_type": "code",
   "execution_count": null,
   "metadata": {},
   "outputs": [],
   "source": []
  },
  {
   "cell_type": "code",
   "execution_count": null,
   "metadata": {},
   "outputs": [],
   "source": []
  }
 ],
 "metadata": {
  "kernelspec": {
   "display_name": "Python 3",
   "language": "python",
   "name": "python3"
  },
  "language_info": {
   "codemirror_mode": {
    "name": "ipython",
    "version": 3
   },
   "file_extension": ".py",
   "mimetype": "text/x-python",
   "name": "python",
   "nbconvert_exporter": "python",
   "pygments_lexer": "ipython3",
   "version": "3.6.3"
  }
 },
 "nbformat": 4,
 "nbformat_minor": 2
}
